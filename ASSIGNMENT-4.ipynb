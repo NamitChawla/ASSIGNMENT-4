{
 "cells": [
  {
   "cell_type": "markdown",
   "metadata": {},
   "source": [
    "### 1.1 Write a Python Program(with class concepts) to find the area of the triangle using the below formula.\n",
    "area = (s*(s-a)*(s-b)*(s-c)) ** 0.5\n",
    "\n",
    "\n",
    "Function to take the length of the sides of triangle from user should be defined in the parent\n",
    "class and function to calculate the area should be defined in subclass."
   ]
  },
  {
   "cell_type": "code",
   "execution_count": 46,
   "metadata": {},
   "outputs": [],
   "source": [
    "class Parent:\n",
    "    def takeUserInput(self):\n",
    "        self.a = int(input(\"Enter first side\"))\n",
    "        self.b = int(input(\"Enter second side\"))\n",
    "        self.c = int(input(\"Enter third side\"))\n",
    "        return self.a, self.b, self.c"
   ]
  },
  {
   "cell_type": "code",
   "execution_count": 47,
   "metadata": {},
   "outputs": [
    {
     "name": "stdout",
     "output_type": "stream",
     "text": [
      "Enter first side5\n",
      "Enter second side7\n",
      "Enter third side9\n",
      "Area of triangle is: 17.41228014936585\n"
     ]
    }
   ],
   "source": [
    "class Child(Parent):\n",
    "    def calculateArea(self):\n",
    "        self.a, self.b, self.c = super(Child, self).takeUserInput()\n",
    "        s = (self.a+self.b+self.c)/2.0\n",
    "        area = (s*(s-self.a)*(s-self.b)*(s-self.c))**(0.5)\n",
    "        return area\n",
    "child = Child()\n",
    "\n",
    "print(\"Area of triangle is: \" + str(child.calculateArea()))"
   ]
  },
  {
   "cell_type": "markdown",
   "metadata": {},
   "source": [
    "### 1.2 Write a function filter_long_words() that takes a list of words and an integer n and returns the list of words that are longer than n."
   ]
  },
  {
   "cell_type": "code",
   "execution_count": 48,
   "metadata": {},
   "outputs": [
    {
     "data": {
      "text/plain": [
       "['bfdabfba', 'afafaas', 'fadnfnf', 'fddfaff']"
      ]
     },
     "execution_count": 48,
     "metadata": {},
     "output_type": "execute_result"
    }
   ],
   "source": [
    "def filter_long_words(lst, n):\n",
    "    newlst = []\n",
    "    for i in lst:\n",
    "        if len(i)>n:\n",
    "            newlst.append(i)\n",
    "    return newlst\n",
    "result = filter_long_words([\"bfdabfba\", \"fda\", \"afafaas\", \"fadf\", \"fdfff\", \"fadnfnf\", \"fddfaff\"], 5)\n",
    "result"
   ]
  },
  {
   "cell_type": "markdown",
   "metadata": {},
   "source": [
    "### 2.1 Write a Python program using function concept that maps list of words into a list of integers representing the lengths of the corresponding words.\n",
    "\n",
    "Hint: If a list [ ab,cde,erty] is passed on to the python function output should come as [2,3,4]\n",
    "Here 2,3 and 4 are the lengths of the words in the list."
   ]
  },
  {
   "cell_type": "code",
   "execution_count": 52,
   "metadata": {},
   "outputs": [
    {
     "data": {
      "text/plain": [
       "[6, 10, 8, 8, 5]"
      ]
     },
     "execution_count": 52,
     "metadata": {},
     "output_type": "execute_result"
    }
   ],
   "source": [
    "def countLength(lst):\n",
    "    return list(map(lambda x: len(x), lst))\n",
    "                      \n",
    "result = countLength([\"asnaas\", \"faasfsnnas\", \"fanafnnf\", \"asfasfaa\", \"fassa\"])\n",
    "result"
   ]
  },
  {
   "cell_type": "markdown",
   "metadata": {},
   "source": [
    "### 2.2 Write a Python function which takes a character (i.e. a string of length 1) and returns True if it is a vowel, False otherwise.\n",
    "\n",
    "\n"
   ]
  },
  {
   "cell_type": "code",
   "execution_count": 53,
   "metadata": {},
   "outputs": [
    {
     "name": "stdout",
     "output_type": "stream",
     "text": [
      "Enter a character: k\n"
     ]
    },
    {
     "data": {
      "text/plain": [
       "False"
      ]
     },
     "execution_count": 53,
     "metadata": {},
     "output_type": "execute_result"
    }
   ],
   "source": [
    "def takeChar(letter):\n",
    "    if(letter == \"a\" or letter==\"e\" or letter==\"i\" or letter==\"o\" or letter==\"u\"):\n",
    "        return True \n",
    "    else:\n",
    "        return False\n",
    "takeChar(input(\"Enter a character: \"))"
   ]
  }
 ],
 "metadata": {
  "kernelspec": {
   "display_name": "Python 3",
   "language": "python",
   "name": "python3"
  },
  "language_info": {
   "codemirror_mode": {
    "name": "ipython",
    "version": 3
   },
   "file_extension": ".py",
   "mimetype": "text/x-python",
   "name": "python",
   "nbconvert_exporter": "python",
   "pygments_lexer": "ipython3",
   "version": "3.7.1"
  }
 },
 "nbformat": 4,
 "nbformat_minor": 2
}
